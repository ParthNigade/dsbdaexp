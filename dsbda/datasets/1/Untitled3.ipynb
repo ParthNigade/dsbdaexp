{
  "metadata": {
    "kernelspec": {
      "name": "python",
      "display_name": "Python (Pyodide)",
      "language": "python"
    },
    "language_info": {
      "codemirror_mode": {
        "name": "python",
        "version": 3
      },
      "file_extension": ".py",
      "mimetype": "text/x-python",
      "name": "python",
      "nbconvert_exporter": "python",
      "pygments_lexer": "ipython3",
      "version": "3.8"
    }
  },
  "nbformat_minor": 4,
  "nbformat": 4,
  "cells": [
    {
      "cell_type": "code",
      "source": "import pandas as pd\nimport numpy as np",
      "metadata": {
        "trusted": true
      },
      "outputs": [],
      "execution_count": 89
    },
    {
      "cell_type": "code",
      "source": "df=pd.read_csv(\"dataset_Facebook.csv\",sep=\";\")",
      "metadata": {
        "trusted": true
      },
      "outputs": [],
      "execution_count": 90
    },
    {
      "cell_type": "code",
      "source": "df.head()",
      "metadata": {
        "trusted": true
      },
      "outputs": [
        {
          "execution_count": 91,
          "output_type": "execute_result",
          "data": {
            "text/plain": "   Page total likes    Type  Category  Post Month  Post Weekday  Post Hour  \\\n0            139441   Photo         2          12             4          3   \n1            139441  Status         2          12             3         10   \n2            139441   Photo         3          12             3          3   \n3            139441   Photo         2          12             2         10   \n4            139441   Photo         2          12             2          3   \n\n   Paid  Lifetime Post Total Reach  Lifetime Post Total Impressions  \\\n0   0.0                       2752                             5091   \n1   0.0                      10460                            19057   \n2   0.0                       2413                             4373   \n3   1.0                      50128                            87991   \n4   0.0                       7244                            13594   \n\n   Lifetime Engaged Users  Lifetime Post Consumers  \\\n0                     178                      109   \n1                    1457                     1361   \n2                     177                      113   \n3                    2211                      790   \n4                     671                      410   \n\n   Lifetime Post Consumptions  \\\n0                         159   \n1                        1674   \n2                         154   \n3                        1119   \n4                         580   \n\n   Lifetime Post Impressions by people who have liked your Page  \\\n0                                               3078              \n1                                              11710              \n2                                               2812              \n3                                              61027              \n4                                               6228              \n\n   Lifetime Post reach by people who like your Page  \\\n0                                              1640   \n1                                              6112   \n2                                              1503   \n3                                             32048   \n4                                              3200   \n\n   Lifetime People who have liked your Page and engaged with your post  \\\n0                                                119                     \n1                                               1108                     \n2                                                132                     \n3                                               1386                     \n4                                                396                     \n\n   comment    like  share  Total Interactions  \n0        4    79.0   17.0                 100  \n1        5   130.0   29.0                 164  \n2        0    66.0   14.0                  80  \n3       58  1572.0  147.0                1777  \n4       19   325.0   49.0                 393  ",
            "text/html": "<div>\n<style scoped>\n    .dataframe tbody tr th:only-of-type {\n        vertical-align: middle;\n    }\n\n    .dataframe tbody tr th {\n        vertical-align: top;\n    }\n\n    .dataframe thead th {\n        text-align: right;\n    }\n</style>\n<table border=\"1\" class=\"dataframe\">\n  <thead>\n    <tr style=\"text-align: right;\">\n      <th></th>\n      <th>Page total likes</th>\n      <th>Type</th>\n      <th>Category</th>\n      <th>Post Month</th>\n      <th>Post Weekday</th>\n      <th>Post Hour</th>\n      <th>Paid</th>\n      <th>Lifetime Post Total Reach</th>\n      <th>Lifetime Post Total Impressions</th>\n      <th>Lifetime Engaged Users</th>\n      <th>Lifetime Post Consumers</th>\n      <th>Lifetime Post Consumptions</th>\n      <th>Lifetime Post Impressions by people who have liked your Page</th>\n      <th>Lifetime Post reach by people who like your Page</th>\n      <th>Lifetime People who have liked your Page and engaged with your post</th>\n      <th>comment</th>\n      <th>like</th>\n      <th>share</th>\n      <th>Total Interactions</th>\n    </tr>\n  </thead>\n  <tbody>\n    <tr>\n      <th>0</th>\n      <td>139441</td>\n      <td>Photo</td>\n      <td>2</td>\n      <td>12</td>\n      <td>4</td>\n      <td>3</td>\n      <td>0.0</td>\n      <td>2752</td>\n      <td>5091</td>\n      <td>178</td>\n      <td>109</td>\n      <td>159</td>\n      <td>3078</td>\n      <td>1640</td>\n      <td>119</td>\n      <td>4</td>\n      <td>79.0</td>\n      <td>17.0</td>\n      <td>100</td>\n    </tr>\n    <tr>\n      <th>1</th>\n      <td>139441</td>\n      <td>Status</td>\n      <td>2</td>\n      <td>12</td>\n      <td>3</td>\n      <td>10</td>\n      <td>0.0</td>\n      <td>10460</td>\n      <td>19057</td>\n      <td>1457</td>\n      <td>1361</td>\n      <td>1674</td>\n      <td>11710</td>\n      <td>6112</td>\n      <td>1108</td>\n      <td>5</td>\n      <td>130.0</td>\n      <td>29.0</td>\n      <td>164</td>\n    </tr>\n    <tr>\n      <th>2</th>\n      <td>139441</td>\n      <td>Photo</td>\n      <td>3</td>\n      <td>12</td>\n      <td>3</td>\n      <td>3</td>\n      <td>0.0</td>\n      <td>2413</td>\n      <td>4373</td>\n      <td>177</td>\n      <td>113</td>\n      <td>154</td>\n      <td>2812</td>\n      <td>1503</td>\n      <td>132</td>\n      <td>0</td>\n      <td>66.0</td>\n      <td>14.0</td>\n      <td>80</td>\n    </tr>\n    <tr>\n      <th>3</th>\n      <td>139441</td>\n      <td>Photo</td>\n      <td>2</td>\n      <td>12</td>\n      <td>2</td>\n      <td>10</td>\n      <td>1.0</td>\n      <td>50128</td>\n      <td>87991</td>\n      <td>2211</td>\n      <td>790</td>\n      <td>1119</td>\n      <td>61027</td>\n      <td>32048</td>\n      <td>1386</td>\n      <td>58</td>\n      <td>1572.0</td>\n      <td>147.0</td>\n      <td>1777</td>\n    </tr>\n    <tr>\n      <th>4</th>\n      <td>139441</td>\n      <td>Photo</td>\n      <td>2</td>\n      <td>12</td>\n      <td>2</td>\n      <td>3</td>\n      <td>0.0</td>\n      <td>7244</td>\n      <td>13594</td>\n      <td>671</td>\n      <td>410</td>\n      <td>580</td>\n      <td>6228</td>\n      <td>3200</td>\n      <td>396</td>\n      <td>19</td>\n      <td>325.0</td>\n      <td>49.0</td>\n      <td>393</td>\n    </tr>\n  </tbody>\n</table>\n</div>"
          },
          "metadata": {}
        }
      ],
      "execution_count": 91
    },
    {
      "cell_type": "code",
      "source": "df2=df[[\"Type\",\"Lifetime Post Total Reach\",\"comment\"]].loc[0:15]",
      "metadata": {
        "trusted": true
      },
      "outputs": [],
      "execution_count": 92
    },
    {
      "cell_type": "code",
      "source": "df2",
      "metadata": {
        "trusted": true
      },
      "outputs": [
        {
          "execution_count": 93,
          "output_type": "execute_result",
          "data": {
            "text/plain": "      Type  Lifetime Post Total Reach  comment\n0    Photo                       2752        4\n1   Status                      10460        5\n2    Photo                       2413        0\n3    Photo                      50128       58\n4    Photo                       7244       19\n5   Status                      10472        1\n6    Photo                      11692        3\n7    Photo                      13720        0\n8   Status                      11844        0\n9    Photo                       4694        3\n10  Status                      21744        0\n11   Photo                       3112        0\n12   Photo                       2847        0\n13   Photo                       2549        5\n14   Photo                      22784        2\n15  Status                      10060        4",
            "text/html": "<div>\n<style scoped>\n    .dataframe tbody tr th:only-of-type {\n        vertical-align: middle;\n    }\n\n    .dataframe tbody tr th {\n        vertical-align: top;\n    }\n\n    .dataframe thead th {\n        text-align: right;\n    }\n</style>\n<table border=\"1\" class=\"dataframe\">\n  <thead>\n    <tr style=\"text-align: right;\">\n      <th></th>\n      <th>Type</th>\n      <th>Lifetime Post Total Reach</th>\n      <th>comment</th>\n    </tr>\n  </thead>\n  <tbody>\n    <tr>\n      <th>0</th>\n      <td>Photo</td>\n      <td>2752</td>\n      <td>4</td>\n    </tr>\n    <tr>\n      <th>1</th>\n      <td>Status</td>\n      <td>10460</td>\n      <td>5</td>\n    </tr>\n    <tr>\n      <th>2</th>\n      <td>Photo</td>\n      <td>2413</td>\n      <td>0</td>\n    </tr>\n    <tr>\n      <th>3</th>\n      <td>Photo</td>\n      <td>50128</td>\n      <td>58</td>\n    </tr>\n    <tr>\n      <th>4</th>\n      <td>Photo</td>\n      <td>7244</td>\n      <td>19</td>\n    </tr>\n    <tr>\n      <th>5</th>\n      <td>Status</td>\n      <td>10472</td>\n      <td>1</td>\n    </tr>\n    <tr>\n      <th>6</th>\n      <td>Photo</td>\n      <td>11692</td>\n      <td>3</td>\n    </tr>\n    <tr>\n      <th>7</th>\n      <td>Photo</td>\n      <td>13720</td>\n      <td>0</td>\n    </tr>\n    <tr>\n      <th>8</th>\n      <td>Status</td>\n      <td>11844</td>\n      <td>0</td>\n    </tr>\n    <tr>\n      <th>9</th>\n      <td>Photo</td>\n      <td>4694</td>\n      <td>3</td>\n    </tr>\n    <tr>\n      <th>10</th>\n      <td>Status</td>\n      <td>21744</td>\n      <td>0</td>\n    </tr>\n    <tr>\n      <th>11</th>\n      <td>Photo</td>\n      <td>3112</td>\n      <td>0</td>\n    </tr>\n    <tr>\n      <th>12</th>\n      <td>Photo</td>\n      <td>2847</td>\n      <td>0</td>\n    </tr>\n    <tr>\n      <th>13</th>\n      <td>Photo</td>\n      <td>2549</td>\n      <td>5</td>\n    </tr>\n    <tr>\n      <th>14</th>\n      <td>Photo</td>\n      <td>22784</td>\n      <td>2</td>\n    </tr>\n    <tr>\n      <th>15</th>\n      <td>Status</td>\n      <td>10060</td>\n      <td>4</td>\n    </tr>\n  </tbody>\n</table>\n</div>"
          },
          "metadata": {}
        }
      ],
      "execution_count": 93
    },
    {
      "cell_type": "code",
      "source": "df3=df[[\"Type\",\"Lifetime Post Total Reach\",\"comment\"]].loc[15:30]",
      "metadata": {
        "trusted": true
      },
      "outputs": [],
      "execution_count": 94
    },
    {
      "cell_type": "code",
      "source": "df3",
      "metadata": {
        "trusted": true
      },
      "outputs": [
        {
          "execution_count": 95,
          "output_type": "execute_result",
          "data": {
            "text/plain": "      Type  Lifetime Post Total Reach  comment\n15  Status                      10060        4\n16   Photo                       1722        2\n17   Photo                      53264       15\n18  Status                       3930        4\n19   Photo                       1591        0\n20   Photo                       2848        3\n21   Photo                       1384        0\n22    Link                       3454        0\n23   Photo                       2723        0\n24  Status                       8488        3\n25  Status                       8284        0\n26  Status                      19552       10\n27   Photo                       2478        0\n28   Photo                       9560       36\n29   Video                      36208       18\n30   Photo                       4940       33",
            "text/html": "<div>\n<style scoped>\n    .dataframe tbody tr th:only-of-type {\n        vertical-align: middle;\n    }\n\n    .dataframe tbody tr th {\n        vertical-align: top;\n    }\n\n    .dataframe thead th {\n        text-align: right;\n    }\n</style>\n<table border=\"1\" class=\"dataframe\">\n  <thead>\n    <tr style=\"text-align: right;\">\n      <th></th>\n      <th>Type</th>\n      <th>Lifetime Post Total Reach</th>\n      <th>comment</th>\n    </tr>\n  </thead>\n  <tbody>\n    <tr>\n      <th>15</th>\n      <td>Status</td>\n      <td>10060</td>\n      <td>4</td>\n    </tr>\n    <tr>\n      <th>16</th>\n      <td>Photo</td>\n      <td>1722</td>\n      <td>2</td>\n    </tr>\n    <tr>\n      <th>17</th>\n      <td>Photo</td>\n      <td>53264</td>\n      <td>15</td>\n    </tr>\n    <tr>\n      <th>18</th>\n      <td>Status</td>\n      <td>3930</td>\n      <td>4</td>\n    </tr>\n    <tr>\n      <th>19</th>\n      <td>Photo</td>\n      <td>1591</td>\n      <td>0</td>\n    </tr>\n    <tr>\n      <th>20</th>\n      <td>Photo</td>\n      <td>2848</td>\n      <td>3</td>\n    </tr>\n    <tr>\n      <th>21</th>\n      <td>Photo</td>\n      <td>1384</td>\n      <td>0</td>\n    </tr>\n    <tr>\n      <th>22</th>\n      <td>Link</td>\n      <td>3454</td>\n      <td>0</td>\n    </tr>\n    <tr>\n      <th>23</th>\n      <td>Photo</td>\n      <td>2723</td>\n      <td>0</td>\n    </tr>\n    <tr>\n      <th>24</th>\n      <td>Status</td>\n      <td>8488</td>\n      <td>3</td>\n    </tr>\n    <tr>\n      <th>25</th>\n      <td>Status</td>\n      <td>8284</td>\n      <td>0</td>\n    </tr>\n    <tr>\n      <th>26</th>\n      <td>Status</td>\n      <td>19552</td>\n      <td>10</td>\n    </tr>\n    <tr>\n      <th>27</th>\n      <td>Photo</td>\n      <td>2478</td>\n      <td>0</td>\n    </tr>\n    <tr>\n      <th>28</th>\n      <td>Photo</td>\n      <td>9560</td>\n      <td>36</td>\n    </tr>\n    <tr>\n      <th>29</th>\n      <td>Video</td>\n      <td>36208</td>\n      <td>18</td>\n    </tr>\n    <tr>\n      <th>30</th>\n      <td>Photo</td>\n      <td>4940</td>\n      <td>33</td>\n    </tr>\n  </tbody>\n</table>\n</div>"
          },
          "metadata": {}
        }
      ],
      "execution_count": 95
    },
    {
      "cell_type": "code",
      "source": "merge=pd.concat([df2,df3])",
      "metadata": {
        "trusted": true
      },
      "outputs": [],
      "execution_count": 96
    },
    {
      "cell_type": "code",
      "source": "merge",
      "metadata": {
        "trusted": true
      },
      "outputs": [
        {
          "execution_count": 97,
          "output_type": "execute_result",
          "data": {
            "text/plain": "      Type  Lifetime Post Total Reach  comment\n0    Photo                       2752        4\n1   Status                      10460        5\n2    Photo                       2413        0\n3    Photo                      50128       58\n4    Photo                       7244       19\n5   Status                      10472        1\n6    Photo                      11692        3\n7    Photo                      13720        0\n8   Status                      11844        0\n9    Photo                       4694        3\n10  Status                      21744        0\n11   Photo                       3112        0\n12   Photo                       2847        0\n13   Photo                       2549        5\n14   Photo                      22784        2\n15  Status                      10060        4\n15  Status                      10060        4\n16   Photo                       1722        2\n17   Photo                      53264       15\n18  Status                       3930        4\n19   Photo                       1591        0\n20   Photo                       2848        3\n21   Photo                       1384        0\n22    Link                       3454        0\n23   Photo                       2723        0\n24  Status                       8488        3\n25  Status                       8284        0\n26  Status                      19552       10\n27   Photo                       2478        0\n28   Photo                       9560       36\n29   Video                      36208       18\n30   Photo                       4940       33",
            "text/html": "<div>\n<style scoped>\n    .dataframe tbody tr th:only-of-type {\n        vertical-align: middle;\n    }\n\n    .dataframe tbody tr th {\n        vertical-align: top;\n    }\n\n    .dataframe thead th {\n        text-align: right;\n    }\n</style>\n<table border=\"1\" class=\"dataframe\">\n  <thead>\n    <tr style=\"text-align: right;\">\n      <th></th>\n      <th>Type</th>\n      <th>Lifetime Post Total Reach</th>\n      <th>comment</th>\n    </tr>\n  </thead>\n  <tbody>\n    <tr>\n      <th>0</th>\n      <td>Photo</td>\n      <td>2752</td>\n      <td>4</td>\n    </tr>\n    <tr>\n      <th>1</th>\n      <td>Status</td>\n      <td>10460</td>\n      <td>5</td>\n    </tr>\n    <tr>\n      <th>2</th>\n      <td>Photo</td>\n      <td>2413</td>\n      <td>0</td>\n    </tr>\n    <tr>\n      <th>3</th>\n      <td>Photo</td>\n      <td>50128</td>\n      <td>58</td>\n    </tr>\n    <tr>\n      <th>4</th>\n      <td>Photo</td>\n      <td>7244</td>\n      <td>19</td>\n    </tr>\n    <tr>\n      <th>5</th>\n      <td>Status</td>\n      <td>10472</td>\n      <td>1</td>\n    </tr>\n    <tr>\n      <th>6</th>\n      <td>Photo</td>\n      <td>11692</td>\n      <td>3</td>\n    </tr>\n    <tr>\n      <th>7</th>\n      <td>Photo</td>\n      <td>13720</td>\n      <td>0</td>\n    </tr>\n    <tr>\n      <th>8</th>\n      <td>Status</td>\n      <td>11844</td>\n      <td>0</td>\n    </tr>\n    <tr>\n      <th>9</th>\n      <td>Photo</td>\n      <td>4694</td>\n      <td>3</td>\n    </tr>\n    <tr>\n      <th>10</th>\n      <td>Status</td>\n      <td>21744</td>\n      <td>0</td>\n    </tr>\n    <tr>\n      <th>11</th>\n      <td>Photo</td>\n      <td>3112</td>\n      <td>0</td>\n    </tr>\n    <tr>\n      <th>12</th>\n      <td>Photo</td>\n      <td>2847</td>\n      <td>0</td>\n    </tr>\n    <tr>\n      <th>13</th>\n      <td>Photo</td>\n      <td>2549</td>\n      <td>5</td>\n    </tr>\n    <tr>\n      <th>14</th>\n      <td>Photo</td>\n      <td>22784</td>\n      <td>2</td>\n    </tr>\n    <tr>\n      <th>15</th>\n      <td>Status</td>\n      <td>10060</td>\n      <td>4</td>\n    </tr>\n    <tr>\n      <th>15</th>\n      <td>Status</td>\n      <td>10060</td>\n      <td>4</td>\n    </tr>\n    <tr>\n      <th>16</th>\n      <td>Photo</td>\n      <td>1722</td>\n      <td>2</td>\n    </tr>\n    <tr>\n      <th>17</th>\n      <td>Photo</td>\n      <td>53264</td>\n      <td>15</td>\n    </tr>\n    <tr>\n      <th>18</th>\n      <td>Status</td>\n      <td>3930</td>\n      <td>4</td>\n    </tr>\n    <tr>\n      <th>19</th>\n      <td>Photo</td>\n      <td>1591</td>\n      <td>0</td>\n    </tr>\n    <tr>\n      <th>20</th>\n      <td>Photo</td>\n      <td>2848</td>\n      <td>3</td>\n    </tr>\n    <tr>\n      <th>21</th>\n      <td>Photo</td>\n      <td>1384</td>\n      <td>0</td>\n    </tr>\n    <tr>\n      <th>22</th>\n      <td>Link</td>\n      <td>3454</td>\n      <td>0</td>\n    </tr>\n    <tr>\n      <th>23</th>\n      <td>Photo</td>\n      <td>2723</td>\n      <td>0</td>\n    </tr>\n    <tr>\n      <th>24</th>\n      <td>Status</td>\n      <td>8488</td>\n      <td>3</td>\n    </tr>\n    <tr>\n      <th>25</th>\n      <td>Status</td>\n      <td>8284</td>\n      <td>0</td>\n    </tr>\n    <tr>\n      <th>26</th>\n      <td>Status</td>\n      <td>19552</td>\n      <td>10</td>\n    </tr>\n    <tr>\n      <th>27</th>\n      <td>Photo</td>\n      <td>2478</td>\n      <td>0</td>\n    </tr>\n    <tr>\n      <th>28</th>\n      <td>Photo</td>\n      <td>9560</td>\n      <td>36</td>\n    </tr>\n    <tr>\n      <th>29</th>\n      <td>Video</td>\n      <td>36208</td>\n      <td>18</td>\n    </tr>\n    <tr>\n      <th>30</th>\n      <td>Photo</td>\n      <td>4940</td>\n      <td>33</td>\n    </tr>\n  </tbody>\n</table>\n</div>"
          },
          "metadata": {}
        }
      ],
      "execution_count": 97
    },
    {
      "cell_type": "code",
      "source": "sort=df.sort_values(\"Page total likes\")",
      "metadata": {
        "trusted": true
      },
      "outputs": [],
      "execution_count": 98
    },
    {
      "cell_type": "code",
      "source": "df.head()",
      "metadata": {
        "trusted": true
      },
      "outputs": [
        {
          "execution_count": 99,
          "output_type": "execute_result",
          "data": {
            "text/plain": "   Page total likes    Type  Category  Post Month  Post Weekday  Post Hour  \\\n0            139441   Photo         2          12             4          3   \n1            139441  Status         2          12             3         10   \n2            139441   Photo         3          12             3          3   \n3            139441   Photo         2          12             2         10   \n4            139441   Photo         2          12             2          3   \n\n   Paid  Lifetime Post Total Reach  Lifetime Post Total Impressions  \\\n0   0.0                       2752                             5091   \n1   0.0                      10460                            19057   \n2   0.0                       2413                             4373   \n3   1.0                      50128                            87991   \n4   0.0                       7244                            13594   \n\n   Lifetime Engaged Users  Lifetime Post Consumers  \\\n0                     178                      109   \n1                    1457                     1361   \n2                     177                      113   \n3                    2211                      790   \n4                     671                      410   \n\n   Lifetime Post Consumptions  \\\n0                         159   \n1                        1674   \n2                         154   \n3                        1119   \n4                         580   \n\n   Lifetime Post Impressions by people who have liked your Page  \\\n0                                               3078              \n1                                              11710              \n2                                               2812              \n3                                              61027              \n4                                               6228              \n\n   Lifetime Post reach by people who like your Page  \\\n0                                              1640   \n1                                              6112   \n2                                              1503   \n3                                             32048   \n4                                              3200   \n\n   Lifetime People who have liked your Page and engaged with your post  \\\n0                                                119                     \n1                                               1108                     \n2                                                132                     \n3                                               1386                     \n4                                                396                     \n\n   comment    like  share  Total Interactions  \n0        4    79.0   17.0                 100  \n1        5   130.0   29.0                 164  \n2        0    66.0   14.0                  80  \n3       58  1572.0  147.0                1777  \n4       19   325.0   49.0                 393  ",
            "text/html": "<div>\n<style scoped>\n    .dataframe tbody tr th:only-of-type {\n        vertical-align: middle;\n    }\n\n    .dataframe tbody tr th {\n        vertical-align: top;\n    }\n\n    .dataframe thead th {\n        text-align: right;\n    }\n</style>\n<table border=\"1\" class=\"dataframe\">\n  <thead>\n    <tr style=\"text-align: right;\">\n      <th></th>\n      <th>Page total likes</th>\n      <th>Type</th>\n      <th>Category</th>\n      <th>Post Month</th>\n      <th>Post Weekday</th>\n      <th>Post Hour</th>\n      <th>Paid</th>\n      <th>Lifetime Post Total Reach</th>\n      <th>Lifetime Post Total Impressions</th>\n      <th>Lifetime Engaged Users</th>\n      <th>Lifetime Post Consumers</th>\n      <th>Lifetime Post Consumptions</th>\n      <th>Lifetime Post Impressions by people who have liked your Page</th>\n      <th>Lifetime Post reach by people who like your Page</th>\n      <th>Lifetime People who have liked your Page and engaged with your post</th>\n      <th>comment</th>\n      <th>like</th>\n      <th>share</th>\n      <th>Total Interactions</th>\n    </tr>\n  </thead>\n  <tbody>\n    <tr>\n      <th>0</th>\n      <td>139441</td>\n      <td>Photo</td>\n      <td>2</td>\n      <td>12</td>\n      <td>4</td>\n      <td>3</td>\n      <td>0.0</td>\n      <td>2752</td>\n      <td>5091</td>\n      <td>178</td>\n      <td>109</td>\n      <td>159</td>\n      <td>3078</td>\n      <td>1640</td>\n      <td>119</td>\n      <td>4</td>\n      <td>79.0</td>\n      <td>17.0</td>\n      <td>100</td>\n    </tr>\n    <tr>\n      <th>1</th>\n      <td>139441</td>\n      <td>Status</td>\n      <td>2</td>\n      <td>12</td>\n      <td>3</td>\n      <td>10</td>\n      <td>0.0</td>\n      <td>10460</td>\n      <td>19057</td>\n      <td>1457</td>\n      <td>1361</td>\n      <td>1674</td>\n      <td>11710</td>\n      <td>6112</td>\n      <td>1108</td>\n      <td>5</td>\n      <td>130.0</td>\n      <td>29.0</td>\n      <td>164</td>\n    </tr>\n    <tr>\n      <th>2</th>\n      <td>139441</td>\n      <td>Photo</td>\n      <td>3</td>\n      <td>12</td>\n      <td>3</td>\n      <td>3</td>\n      <td>0.0</td>\n      <td>2413</td>\n      <td>4373</td>\n      <td>177</td>\n      <td>113</td>\n      <td>154</td>\n      <td>2812</td>\n      <td>1503</td>\n      <td>132</td>\n      <td>0</td>\n      <td>66.0</td>\n      <td>14.0</td>\n      <td>80</td>\n    </tr>\n    <tr>\n      <th>3</th>\n      <td>139441</td>\n      <td>Photo</td>\n      <td>2</td>\n      <td>12</td>\n      <td>2</td>\n      <td>10</td>\n      <td>1.0</td>\n      <td>50128</td>\n      <td>87991</td>\n      <td>2211</td>\n      <td>790</td>\n      <td>1119</td>\n      <td>61027</td>\n      <td>32048</td>\n      <td>1386</td>\n      <td>58</td>\n      <td>1572.0</td>\n      <td>147.0</td>\n      <td>1777</td>\n    </tr>\n    <tr>\n      <th>4</th>\n      <td>139441</td>\n      <td>Photo</td>\n      <td>2</td>\n      <td>12</td>\n      <td>2</td>\n      <td>3</td>\n      <td>0.0</td>\n      <td>7244</td>\n      <td>13594</td>\n      <td>671</td>\n      <td>410</td>\n      <td>580</td>\n      <td>6228</td>\n      <td>3200</td>\n      <td>396</td>\n      <td>19</td>\n      <td>325.0</td>\n      <td>49.0</td>\n      <td>393</td>\n    </tr>\n  </tbody>\n</table>\n</div>"
          },
          "metadata": {}
        }
      ],
      "execution_count": 99
    },
    {
      "cell_type": "code",
      "source": "sort=df.sort_values([\"Page total likes\",\"Lifetime Post Total Reach\"],ascending=True)",
      "metadata": {
        "trusted": true
      },
      "outputs": [],
      "execution_count": 100
    },
    {
      "cell_type": "code",
      "source": "sort.head()",
      "metadata": {
        "trusted": true
      },
      "outputs": [
        {
          "execution_count": 101,
          "output_type": "execute_result",
          "data": {
            "text/plain": "     Page total likes   Type  Category  Post Month  Post Weekday  Post Hour  \\\n496             81370  Photo         2           1             5          8   \n497             81370  Photo         1           1             5          2   \n498             81370  Photo         3           1             4         11   \n499             81370  Photo         2           1             4          4   \n495             85093  Photo         3           1             7          2   \n\n     Paid  Lifetime Post Total Reach  Lifetime Post Total Impressions  \\\n496   0.0                       3480                             6229   \n497   0.0                       3778                             7216   \n498   0.0                       4156                             7564   \n499   NaN                       4188                             7292   \n495   0.0                       4684                             7536   \n\n     Lifetime Engaged Users  Lifetime Post Consumers  \\\n496                     537                      508   \n497                     625                      572   \n498                     626                      574   \n499                     564                      524   \n495                     733                      708   \n\n     Lifetime Post Consumptions  \\\n496                         687   \n497                         795   \n498                         832   \n499                         743   \n495                         985   \n\n     Lifetime Post Impressions by people who have liked your Page  \\\n496                                               3961              \n497                                               4742              \n498                                               4534              \n499                                               3861              \n495                                               4750              \n\n     Lifetime Post reach by people who like your Page  \\\n496                                              2104   \n497                                              2388   \n498                                              2452   \n499                                              2200   \n495                                              2876   \n\n     Lifetime People who have liked your Page and engaged with your post  \\\n496                                                301                     \n497                                                363                     \n498                                                370                     \n499                                                316                     \n495                                                392                     \n\n     comment  like  share  Total Interactions  \n496        0  53.0   22.0                  75  \n497        4  93.0   18.0                 115  \n498        7  91.0   38.0                 136  \n499        0  91.0   28.0                 119  \n495        5  53.0   26.0                  84  ",
            "text/html": "<div>\n<style scoped>\n    .dataframe tbody tr th:only-of-type {\n        vertical-align: middle;\n    }\n\n    .dataframe tbody tr th {\n        vertical-align: top;\n    }\n\n    .dataframe thead th {\n        text-align: right;\n    }\n</style>\n<table border=\"1\" class=\"dataframe\">\n  <thead>\n    <tr style=\"text-align: right;\">\n      <th></th>\n      <th>Page total likes</th>\n      <th>Type</th>\n      <th>Category</th>\n      <th>Post Month</th>\n      <th>Post Weekday</th>\n      <th>Post Hour</th>\n      <th>Paid</th>\n      <th>Lifetime Post Total Reach</th>\n      <th>Lifetime Post Total Impressions</th>\n      <th>Lifetime Engaged Users</th>\n      <th>Lifetime Post Consumers</th>\n      <th>Lifetime Post Consumptions</th>\n      <th>Lifetime Post Impressions by people who have liked your Page</th>\n      <th>Lifetime Post reach by people who like your Page</th>\n      <th>Lifetime People who have liked your Page and engaged with your post</th>\n      <th>comment</th>\n      <th>like</th>\n      <th>share</th>\n      <th>Total Interactions</th>\n    </tr>\n  </thead>\n  <tbody>\n    <tr>\n      <th>496</th>\n      <td>81370</td>\n      <td>Photo</td>\n      <td>2</td>\n      <td>1</td>\n      <td>5</td>\n      <td>8</td>\n      <td>0.0</td>\n      <td>3480</td>\n      <td>6229</td>\n      <td>537</td>\n      <td>508</td>\n      <td>687</td>\n      <td>3961</td>\n      <td>2104</td>\n      <td>301</td>\n      <td>0</td>\n      <td>53.0</td>\n      <td>22.0</td>\n      <td>75</td>\n    </tr>\n    <tr>\n      <th>497</th>\n      <td>81370</td>\n      <td>Photo</td>\n      <td>1</td>\n      <td>1</td>\n      <td>5</td>\n      <td>2</td>\n      <td>0.0</td>\n      <td>3778</td>\n      <td>7216</td>\n      <td>625</td>\n      <td>572</td>\n      <td>795</td>\n      <td>4742</td>\n      <td>2388</td>\n      <td>363</td>\n      <td>4</td>\n      <td>93.0</td>\n      <td>18.0</td>\n      <td>115</td>\n    </tr>\n    <tr>\n      <th>498</th>\n      <td>81370</td>\n      <td>Photo</td>\n      <td>3</td>\n      <td>1</td>\n      <td>4</td>\n      <td>11</td>\n      <td>0.0</td>\n      <td>4156</td>\n      <td>7564</td>\n      <td>626</td>\n      <td>574</td>\n      <td>832</td>\n      <td>4534</td>\n      <td>2452</td>\n      <td>370</td>\n      <td>7</td>\n      <td>91.0</td>\n      <td>38.0</td>\n      <td>136</td>\n    </tr>\n    <tr>\n      <th>499</th>\n      <td>81370</td>\n      <td>Photo</td>\n      <td>2</td>\n      <td>1</td>\n      <td>4</td>\n      <td>4</td>\n      <td>NaN</td>\n      <td>4188</td>\n      <td>7292</td>\n      <td>564</td>\n      <td>524</td>\n      <td>743</td>\n      <td>3861</td>\n      <td>2200</td>\n      <td>316</td>\n      <td>0</td>\n      <td>91.0</td>\n      <td>28.0</td>\n      <td>119</td>\n    </tr>\n    <tr>\n      <th>495</th>\n      <td>85093</td>\n      <td>Photo</td>\n      <td>3</td>\n      <td>1</td>\n      <td>7</td>\n      <td>2</td>\n      <td>0.0</td>\n      <td>4684</td>\n      <td>7536</td>\n      <td>733</td>\n      <td>708</td>\n      <td>985</td>\n      <td>4750</td>\n      <td>2876</td>\n      <td>392</td>\n      <td>5</td>\n      <td>53.0</td>\n      <td>26.0</td>\n      <td>84</td>\n    </tr>\n  </tbody>\n</table>\n</div>"
          },
          "metadata": {}
        }
      ],
      "execution_count": 101
    },
    {
      "cell_type": "code",
      "source": "traspose=df.transpose()",
      "metadata": {
        "trusted": true
      },
      "outputs": [],
      "execution_count": 102
    },
    {
      "cell_type": "code",
      "source": "traspose.head()",
      "metadata": {
        "trusted": true
      },
      "outputs": [
        {
          "execution_count": 103,
          "output_type": "execute_result",
          "data": {
            "text/plain": "                     0       1       2       3       4       5       6    \\\nPage total likes  139441  139441  139441  139441  139441  139441  139441   \nType               Photo  Status   Photo   Photo   Photo  Status   Photo   \nCategory               2       2       3       2       2       2       3   \nPost Month            12      12      12      12      12      12      12   \nPost Weekday           4       3       3       2       2       1       1   \n\n                     7       8       9    ...    490    491    492    493  \\\nPage total likes  139441  139441  139441  ...  85979  85979  85979  85093   \nType               Photo  Status   Photo  ...  Photo  Photo   Link  Photo   \nCategory               3       2       3  ...      3      3      1      3   \nPost Month            12      12      12  ...      1      1      1      1   \nPost Weekday           7       7       6  ...      6      6      5      1   \n\n                    494    495    496    497    498    499  \nPage total likes  85093  85093  81370  81370  81370  81370  \nType              Photo  Photo  Photo  Photo  Photo  Photo  \nCategory              3      3      2      1      3      2  \nPost Month            1      1      1      1      1      1  \nPost Weekday          7      7      5      5      4      4  \n\n[5 rows x 500 columns]",
            "text/html": "<div>\n<style scoped>\n    .dataframe tbody tr th:only-of-type {\n        vertical-align: middle;\n    }\n\n    .dataframe tbody tr th {\n        vertical-align: top;\n    }\n\n    .dataframe thead th {\n        text-align: right;\n    }\n</style>\n<table border=\"1\" class=\"dataframe\">\n  <thead>\n    <tr style=\"text-align: right;\">\n      <th></th>\n      <th>0</th>\n      <th>1</th>\n      <th>2</th>\n      <th>3</th>\n      <th>4</th>\n      <th>5</th>\n      <th>6</th>\n      <th>7</th>\n      <th>8</th>\n      <th>9</th>\n      <th>...</th>\n      <th>490</th>\n      <th>491</th>\n      <th>492</th>\n      <th>493</th>\n      <th>494</th>\n      <th>495</th>\n      <th>496</th>\n      <th>497</th>\n      <th>498</th>\n      <th>499</th>\n    </tr>\n  </thead>\n  <tbody>\n    <tr>\n      <th>Page total likes</th>\n      <td>139441</td>\n      <td>139441</td>\n      <td>139441</td>\n      <td>139441</td>\n      <td>139441</td>\n      <td>139441</td>\n      <td>139441</td>\n      <td>139441</td>\n      <td>139441</td>\n      <td>139441</td>\n      <td>...</td>\n      <td>85979</td>\n      <td>85979</td>\n      <td>85979</td>\n      <td>85093</td>\n      <td>85093</td>\n      <td>85093</td>\n      <td>81370</td>\n      <td>81370</td>\n      <td>81370</td>\n      <td>81370</td>\n    </tr>\n    <tr>\n      <th>Type</th>\n      <td>Photo</td>\n      <td>Status</td>\n      <td>Photo</td>\n      <td>Photo</td>\n      <td>Photo</td>\n      <td>Status</td>\n      <td>Photo</td>\n      <td>Photo</td>\n      <td>Status</td>\n      <td>Photo</td>\n      <td>...</td>\n      <td>Photo</td>\n      <td>Photo</td>\n      <td>Link</td>\n      <td>Photo</td>\n      <td>Photo</td>\n      <td>Photo</td>\n      <td>Photo</td>\n      <td>Photo</td>\n      <td>Photo</td>\n      <td>Photo</td>\n    </tr>\n    <tr>\n      <th>Category</th>\n      <td>2</td>\n      <td>2</td>\n      <td>3</td>\n      <td>2</td>\n      <td>2</td>\n      <td>2</td>\n      <td>3</td>\n      <td>3</td>\n      <td>2</td>\n      <td>3</td>\n      <td>...</td>\n      <td>3</td>\n      <td>3</td>\n      <td>1</td>\n      <td>3</td>\n      <td>3</td>\n      <td>3</td>\n      <td>2</td>\n      <td>1</td>\n      <td>3</td>\n      <td>2</td>\n    </tr>\n    <tr>\n      <th>Post Month</th>\n      <td>12</td>\n      <td>12</td>\n      <td>12</td>\n      <td>12</td>\n      <td>12</td>\n      <td>12</td>\n      <td>12</td>\n      <td>12</td>\n      <td>12</td>\n      <td>12</td>\n      <td>...</td>\n      <td>1</td>\n      <td>1</td>\n      <td>1</td>\n      <td>1</td>\n      <td>1</td>\n      <td>1</td>\n      <td>1</td>\n      <td>1</td>\n      <td>1</td>\n      <td>1</td>\n    </tr>\n    <tr>\n      <th>Post Weekday</th>\n      <td>4</td>\n      <td>3</td>\n      <td>3</td>\n      <td>2</td>\n      <td>2</td>\n      <td>1</td>\n      <td>1</td>\n      <td>7</td>\n      <td>7</td>\n      <td>6</td>\n      <td>...</td>\n      <td>6</td>\n      <td>6</td>\n      <td>5</td>\n      <td>1</td>\n      <td>7</td>\n      <td>7</td>\n      <td>5</td>\n      <td>5</td>\n      <td>4</td>\n      <td>4</td>\n    </tr>\n  </tbody>\n</table>\n<p>5 rows × 500 columns</p>\n</div>"
          },
          "metadata": {}
        }
      ],
      "execution_count": 103
    },
    {
      "cell_type": "code",
      "source": "X = df[\"Page total likes\"].loc[0:15]\n",
      "metadata": {
        "trusted": true
      },
      "outputs": [],
      "execution_count": 127
    },
    {
      "cell_type": "code",
      "source": "",
      "metadata": {
        "trusted": true
      },
      "outputs": [],
      "execution_count": null
    },
    {
      "cell_type": "code",
      "source": "arr=np.array(X)\narr",
      "metadata": {
        "trusted": true
      },
      "outputs": [
        {
          "execution_count": 136,
          "output_type": "execute_result",
          "data": {
            "text/plain": "array([139441, 139441, 139441, 139441, 139441, 139441, 139441, 139441,\n       139441, 139441, 139441, 139441, 139441, 139441, 138414, 138414],\n      dtype=int64)"
          },
          "metadata": {}
        }
      ],
      "execution_count": 136
    },
    {
      "cell_type": "code",
      "source": "reshape=arr.reshape(-1,1)\nreshape",
      "metadata": {
        "trusted": true
      },
      "outputs": [
        {
          "execution_count": 137,
          "output_type": "execute_result",
          "data": {
            "text/plain": "array([[139441],\n       [139441],\n       [139441],\n       [139441],\n       [139441],\n       [139441],\n       [139441],\n       [139441],\n       [139441],\n       [139441],\n       [139441],\n       [139441],\n       [139441],\n       [139441],\n       [138414],\n       [138414]], dtype=int64)"
          },
          "metadata": {}
        }
      ],
      "execution_count": 137
    },
    {
      "cell_type": "code",
      "source": " \n",
      "metadata": {
        "trusted": true,
        "scrolled": true
      },
      "outputs": [],
      "execution_count": 132
    },
    {
      "cell_type": "code",
      "source": "",
      "metadata": {
        "trusted": true
      },
      "outputs": [],
      "execution_count": null
    },
    {
      "cell_type": "code",
      "source": "",
      "metadata": {
        "trusted": true
      },
      "outputs": [],
      "execution_count": null
    },
    {
      "cell_type": "code",
      "source": "",
      "metadata": {
        "trusted": true
      },
      "outputs": [],
      "execution_count": null
    }
  ]
}