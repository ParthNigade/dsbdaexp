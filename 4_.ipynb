{
  "nbformat": 4,
  "nbformat_minor": 0,
  "metadata": {
    "colab": {
      "provenance": []
    },
    "kernelspec": {
      "name": "python3",
      "display_name": "Python 3"
    },
    "language_info": {
      "name": "python"
    }
  },
  "cells": [
    {
      "cell_type": "code",
      "execution_count": null,
      "metadata": {
        "id": "2x2dPz5W-U42"
      },
      "outputs": [],
      "source": [
        "import numpy as np\n",
        "import pandas as pd"
      ]
    },
    {
      "cell_type": "code",
      "source": [
        "heart_df=pd.read_csv(\"heart.csv\")\n",
        "Air_df=pd.read_csv(\"AirQuality.csv\",sep=\";\")"
      ],
      "metadata": {
        "id": "PqepVpbJ-gTk"
      },
      "execution_count": null,
      "outputs": []
    },
    {
      "cell_type": "markdown",
      "source": [
        "Data Cleaning"
      ],
      "metadata": {
        "id": "LgSOA4mv-phX"
      }
    },
    {
      "cell_type": "code",
      "source": [
        "Air_df.isnull().sum().sum()"
      ],
      "metadata": {
        "colab": {
          "base_uri": "https://localhost:8080/"
        },
        "id": "TLE90uYp-m1V",
        "outputId": "40542bd7-5027-4519-f73e-94a9c564da59"
      },
      "execution_count": null,
      "outputs": [
        {
          "output_type": "execute_result",
          "data": {
            "text/plain": [
              "20652"
            ]
          },
          "metadata": {},
          "execution_count": 7
        }
      ]
    },
    {
      "cell_type": "code",
      "source": [
        "Air_df_1=Air_df.iloc[:,:15]"
      ],
      "metadata": {
        "id": "tf_sQO83-vce"
      },
      "execution_count": null,
      "outputs": []
    },
    {
      "cell_type": "code",
      "source": [
        "Air_df_1"
      ],
      "metadata": {
        "id": "Gg7D3VfR_Uf4"
      },
      "execution_count": null,
      "outputs": []
    },
    {
      "cell_type": "code",
      "source": [
        "Air_df_2=Air_df_1.dropna()"
      ],
      "metadata": {
        "id": "r3YTShoO_WVh"
      },
      "execution_count": null,
      "outputs": []
    },
    {
      "cell_type": "code",
      "source": [
        "Air_df_2"
      ],
      "metadata": {
        "id": "BDrLCLps_z1G"
      },
      "execution_count": null,
      "outputs": []
    },
    {
      "cell_type": "code",
      "source": [
        "Air_df_1.isnull().sum().sum()"
      ],
      "metadata": {
        "colab": {
          "base_uri": "https://localhost:8080/"
        },
        "id": "gNxxjHUH_7ct",
        "outputId": "2b35cdf2-7eb5-48b9-9e45-d9fbcdbab128"
      },
      "execution_count": null,
      "outputs": [
        {
          "output_type": "execute_result",
          "data": {
            "text/plain": [
              "1710"
            ]
          },
          "metadata": {},
          "execution_count": 23
        }
      ]
    },
    {
      "cell_type": "code",
      "source": [
        "Air_df_2.replace(to_replace=',',value='.',regex=True,inplace=True)\n",
        "Air_df_2"
      ],
      "metadata": {
        "id": "5GPr0V2QAOBL"
      },
      "execution_count": null,
      "outputs": []
    },
    {
      "cell_type": "code",
      "source": [
        "Air_df_2.drop_duplicates(inplace=True)"
      ],
      "metadata": {
        "colab": {
          "base_uri": "https://localhost:8080/"
        },
        "id": "6uLY-aaNAyxC",
        "outputId": "d6c0885f-6a9e-4412-8a7e-328a414638f0"
      },
      "execution_count": null,
      "outputs": [
        {
          "output_type": "stream",
          "name": "stderr",
          "text": [
            "<ipython-input-28-da873724574f>:1: SettingWithCopyWarning: \n",
            "A value is trying to be set on a copy of a slice from a DataFrame\n",
            "\n",
            "See the caveats in the documentation: https://pandas.pydata.org/pandas-docs/stable/user_guide/indexing.html#returning-a-view-versus-a-copy\n",
            "  Air_df_2.drop_duplicates(inplace=True)\n"
          ]
        }
      ]
    },
    {
      "cell_type": "code",
      "source": [
        "Air_df_2"
      ],
      "metadata": {
        "id": "GLBd7Gb0B2R5"
      },
      "execution_count": null,
      "outputs": []
    },
    {
      "cell_type": "markdown",
      "source": [
        "Data Integration"
      ],
      "metadata": {
        "id": "ltvUTLiHB_Y0"
      }
    },
    {
      "cell_type": "code",
      "source": [
        "DataSet1=Air_df_2[['Date','Time','T','RH','AH']].loc[0:50]\n",
        "DataSet2=Air_df_2[['Date','Time','T','RH','AH']].loc[51:100]\n",
        "DataSet3=Air_df_2[['Date','Time','T','RH','AH']].loc[101:150]\n"
      ],
      "metadata": {
        "id": "1P7qvsGPB3Tf"
      },
      "execution_count": null,
      "outputs": []
    },
    {
      "cell_type": "code",
      "source": [
        "Integration=pd.concat([DataSet1,DataSet2,DataSet3])"
      ],
      "metadata": {
        "id": "-4lTXvh3CZn0"
      },
      "execution_count": null,
      "outputs": []
    },
    {
      "cell_type": "code",
      "source": [
        "Integration"
      ],
      "metadata": {
        "id": "ZsateXuACkB-"
      },
      "execution_count": null,
      "outputs": []
    },
    {
      "cell_type": "markdown",
      "source": [
        "Data Transformation"
      ],
      "metadata": {
        "id": "zZGYKZkeCuDW"
      }
    },
    {
      "cell_type": "code",
      "source": [
        "heart_df.loc[heart_df['sex']==1,'sex']='M'\n",
        "heart_df.loc[heart_df['sex']==0,'sex']='F'"
      ],
      "metadata": {
        "id": "tdpqM44-CltR"
      },
      "execution_count": null,
      "outputs": []
    },
    {
      "cell_type": "code",
      "source": [
        "heart_df"
      ],
      "metadata": {
        "id": "snSvDeYWDTw3"
      },
      "execution_count": null,
      "outputs": []
    },
    {
      "cell_type": "code",
      "source": [],
      "metadata": {
        "id": "YxyypzBnDcXL"
      },
      "execution_count": null,
      "outputs": []
    }
  ]
}